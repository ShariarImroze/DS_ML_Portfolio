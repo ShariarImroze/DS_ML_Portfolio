{
 "cells": [
  {
   "cell_type": "code",
   "execution_count": 1,
   "metadata": {},
   "outputs": [],
   "source": [
    "import math\n",
    "import os\n",
    "import random\n",
    "import re\n",
    "import sys"
   ]
  },
  {
   "cell_type": "code",
   "execution_count": 2,
   "metadata": {},
   "outputs": [],
   "source": [
    "def plusMinus(arr):\n",
    "    pos_count = 0\n",
    "    neg_count = 0\n",
    "    zero_count = 0\n",
    "    for num in arr:\n",
    "        if num > 0:\n",
    "            pos_count += 1\n",
    "        elif num < 0:\n",
    "            neg_count += 1\n",
    "        else:\n",
    "            zero_count += 1\n",
    "    total_count = len(arr)\n",
    "    pos_ratio = pos_count / total_count\n",
    "    neg_ratio = neg_count / total_count\n",
    "    zero_ratio = zero_count / total_count\n",
    "    print(\"{:.6f}\".format(pos_ratio))\n",
    "    print(\"{:.6f}\".format(neg_ratio))\n",
    "    print(\"{:.6f}\".format(zero_ratio))"
   ]
  },
  {
   "cell_type": "code",
   "execution_count": 3,
   "metadata": {},
   "outputs": [],
   "source": [
    "arr = [1,1,0,-1,-1]"
   ]
  },
  {
   "cell_type": "code",
   "execution_count": 4,
   "metadata": {},
   "outputs": [
    {
     "name": "stdout",
     "output_type": "stream",
     "text": [
      "0.400000\n",
      "0.400000\n",
      "0.200000\n"
     ]
    }
   ],
   "source": [
    "plusMinus(arr)"
   ]
  },
  {
   "cell_type": "code",
   "execution_count": null,
   "metadata": {},
   "outputs": [],
   "source": []
  }
 ],
 "metadata": {
  "kernelspec": {
   "display_name": "Python 3",
   "language": "python",
   "name": "python3"
  },
  "language_info": {
   "codemirror_mode": {
    "name": "ipython",
    "version": 3
   },
   "file_extension": ".py",
   "mimetype": "text/x-python",
   "name": "python",
   "nbconvert_exporter": "python",
   "pygments_lexer": "ipython3",
   "version": "3.10.10"
  },
  "orig_nbformat": 4
 },
 "nbformat": 4,
 "nbformat_minor": 2
}
