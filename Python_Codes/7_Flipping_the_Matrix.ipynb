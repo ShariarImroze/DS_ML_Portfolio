{
 "cells": [
  {
   "cell_type": "code",
   "execution_count": 1,
   "metadata": {},
   "outputs": [],
   "source": [
    "import sys"
   ]
  },
  {
   "cell_type": "code",
   "execution_count": 2,
   "metadata": {},
   "outputs": [],
   "source": [
    "def flippingMatrix(matrix):\n",
    "    q = int(sys.stdin.readline())\n",
    "    \n",
    "    for t in range(q):\n",
    "        n = int(sys.stdin.readline())\n",
    "    \n",
    "        # Build the input matrix\n",
    "        matrix = []\n",
    "        for i in range(2*n):\n",
    "            row = list(map(int, sys.stdin.readline().split()))\n",
    "            matrix.append(row)\n",
    "    \n",
    "        # Reverse rows and columns to maximize sum\n",
    "        for i in range(n):\n",
    "            for j in range(n):\n",
    "                # Determine the indices of the corresponding elements in the other quadrants\n",
    "                i_ = 2*n - i - 1\n",
    "                j_ = 2*n - j - 1\n",
    "    \n",
    "                # Find the maximum element among the four corresponding elements\n",
    "                max_val = max(matrix[i][j], matrix[i_][j], matrix[i][j_], matrix[i_][j_])\n",
    "    \n",
    "                # Swap rows and columns to put the maximum element in the upper-left quadrant\n",
    "                if matrix[i][j] != max_val:\n",
    "                    for k in range(2*n):\n",
    "                        matrix[i][k], matrix[i_][k] = matrix[i_][k], matrix[i][k]\n",
    "                    for k in range(2*n):\n",
    "                        matrix[k][j], matrix[k][j_] = matrix[k][j_], matrix[k][j]\n",
    "    \n",
    "        # Compute the sum of the elements in the upper-left quadrant\n",
    "        sum = 0\n",
    "        for i in range(n):\n",
    "            for j in range(n):\n",
    "                sum += matrix[i][j]\n",
    "    \n",
    "        print(sum)"
   ]
  },
  {
   "cell_type": "code",
   "execution_count": 3,
   "metadata": {},
   "outputs": [],
   "source": [
    "matrix = [[112, 42, 83, 119], [56, 125, 56, 49], [15, 78, 101, 43], [62, 98, 114,108]]"
   ]
  },
  {
   "cell_type": "code",
   "execution_count": 4,
   "metadata": {},
   "outputs": [],
   "source": [
    "flippingMatrix(matrix)"
   ]
  }
 ],
 "metadata": {
  "kernelspec": {
   "display_name": "Python 3",
   "language": "python",
   "name": "python3"
  },
  "language_info": {
   "codemirror_mode": {
    "name": "ipython",
    "version": 3
   },
   "file_extension": ".py",
   "mimetype": "text/x-python",
   "name": "python",
   "nbconvert_exporter": "python",
   "pygments_lexer": "ipython3",
   "version": "3.10.10"
  },
  "orig_nbformat": 4
 },
 "nbformat": 4,
 "nbformat_minor": 2
}
