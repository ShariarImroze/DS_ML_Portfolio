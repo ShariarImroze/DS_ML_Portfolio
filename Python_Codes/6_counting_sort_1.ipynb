{
 "cells": [
  {
   "cell_type": "code",
   "execution_count": 21,
   "metadata": {},
   "outputs": [],
   "source": [
    "import math\n",
    "import os\n",
    "import random\n",
    "import re\n",
    "import sys"
   ]
  },
  {
   "cell_type": "code",
   "execution_count": 22,
   "metadata": {},
   "outputs": [],
   "source": [
    "def countSort(arr):\n",
    "    n = len(arr)\n",
    "    if n == 1:\n",
    "        print(arr[0][1])\n",
    "    else:\n",
    "        d = {}\n",
    "        key = []\n",
    "        for i in range(n//2):\n",
    "            arr[i] = (arr[i][0], '-')\n",
    "        for i in range(n):\n",
    "            if arr[i][0] in d:\n",
    "                d[arr[i][0]] += ' ' + arr[i][1]\n",
    "            else:\n",
    "                d[arr[i][0]] = arr[i][1]\n",
    "                key.append(arr[i][0])\n",
    "        key.sort()\n",
    "        ans = ''\n",
    "        for item in key:\n",
    "            ans += ' ' + d[item]\n",
    "        print(ans[1:])\n"
   ]
  },
  {
   "cell_type": "code",
   "execution_count": 23,
   "metadata": {},
   "outputs": [],
   "source": [
    "my_array = [(4, 'a'), (2, 'b'), (1, 'c'), (4, 'd'), (3, 'e'), (1, 'f'), (4, 'g')]\n",
    "\n"
   ]
  },
  {
   "cell_type": "code",
   "execution_count": 24,
   "metadata": {},
   "outputs": [
    {
     "name": "stdout",
     "output_type": "stream",
     "text": [
      "- f - e - d g\n"
     ]
    }
   ],
   "source": [
    "countSort(my_array)"
   ]
  }
 ],
 "metadata": {
  "kernelspec": {
   "display_name": "Python 3",
   "language": "python",
   "name": "python3"
  },
  "language_info": {
   "codemirror_mode": {
    "name": "ipython",
    "version": 3
   },
   "file_extension": ".py",
   "mimetype": "text/x-python",
   "name": "python",
   "nbconvert_exporter": "python",
   "pygments_lexer": "ipython3",
   "version": "3.10.10"
  },
  "orig_nbformat": 4
 },
 "nbformat": 4,
 "nbformat_minor": 2
}
