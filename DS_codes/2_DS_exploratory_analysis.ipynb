{
 "cells": [
  {
   "attachments": {},
   "cell_type": "markdown",
   "metadata": {},
   "source": [
    "Exploratory Analysis of Titanic Dataset\n",
    "\n",
    "This notebook contains the analysis of the famuos Titanic dataset from Kaggle. We will only carry out some exploratory analysis here. \n",
    "\n",
    "The analysis is an attempt to answer: \n",
    "\n",
    "1. The type of passengers on Titanic. \n",
    "2. Gender analysis. \n",
    "3. Class analysis and survivability based on class.\n",
    "4. Factors contributing to survival. "
   ]
  },
  {
   "cell_type": "code",
   "execution_count": null,
   "metadata": {},
   "outputs": [],
   "source": []
  }
 ],
 "metadata": {
  "language_info": {
   "name": "python"
  },
  "orig_nbformat": 4
 },
 "nbformat": 4,
 "nbformat_minor": 2
}
