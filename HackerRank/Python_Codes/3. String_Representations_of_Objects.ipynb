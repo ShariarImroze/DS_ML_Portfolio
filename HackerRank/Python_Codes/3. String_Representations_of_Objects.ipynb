{
 "cells": [
  {
   "cell_type": "code",
   "execution_count": 4,
   "metadata": {},
   "outputs": [],
   "source": [
    "import math\n",
    "import os\n",
    "import random\n",
    "import re\n",
    "import sys\n",
    "\n",
    "class Car:\n",
    "    def __init__(self, max_speed, speed_unit):\n",
    "        self.max_speed = max_speed\n",
    "        self.speed_unit = speed_unit\n",
    "        \n",
    "    def __str__(self):\n",
    "        return'Car with the maximum speed of ' + str(self.max_speed)+ ' ' + str(self.speed_unit)\n",
    "\n",
    "class Boat:\n",
    "    def __init__(self, max_speed):\n",
    "        self.max_speed = max_speed\n",
    "        \n",
    "    def __str__(self):\n",
    "        return'Boat with the maximum speed of ' + str(self.max_speed)+ ' knots'\n",
    "    \n"
   ]
  },
  {
   "cell_type": "code",
   "execution_count": 6,
   "metadata": {},
   "outputs": [
    {
     "name": "stdout",
     "output_type": "stream",
     "text": [
      "Car with maximum speed of 120 km/h\n"
     ]
    }
   ],
   "source": [
    "car = Car(120,'km/h')\n",
    "print(car)"
   ]
  }
 ],
 "metadata": {
  "kernelspec": {
   "display_name": "Python 3",
   "language": "python",
   "name": "python3"
  },
  "language_info": {
   "codemirror_mode": {
    "name": "ipython",
    "version": 3
   },
   "file_extension": ".py",
   "mimetype": "text/x-python",
   "name": "python",
   "nbconvert_exporter": "python",
   "pygments_lexer": "ipython3",
   "version": "3.10.10"
  },
  "orig_nbformat": 4
 },
 "nbformat": 4,
 "nbformat_minor": 2
}
